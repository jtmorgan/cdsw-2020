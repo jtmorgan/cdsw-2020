{
 "cells": [
  {
   "cell_type": "markdown",
   "metadata": {},
   "source": [
    "# Exploring the data.seattle.gov API\n",
    "The API for data.seattle.gov is called the SODA API (for \"Socrata Open Data API\"). This API allows you to do a lot of filtering and selecting your data before you download it. Not all APIs offer this kind of expanded 'query' functionality, but it can be very useful when they do, for at least 2 reasons:\n",
    "\n",
    "1. it is often easier to select and filter the data you want with an API query than by using Python loops and conditional statements.\n",
    "2. it allows you to download only a subset of the dataset. If the dataset is very large this can save space on your computer and speed up your code (because Python doesn't have to loop through so many rows every time you perform an operation).\n",
    "\n",
    "In this notebook, we will walk through a couple of examples of different kinds of API queries you can do with the data.seattle.gov API. If you are interested in getting more practice with this API, you can check out [the API docs here](https://dev.socrata.com/). "
   ]
  },
  {
   "cell_type": "markdown",
   "metadata": {},
   "source": [
    "# Step 1: test the API (do this first)\n",
    "Run the code in the cell below. You should a list with one large dictionary inside it, which contains a bunch of information about the fancy new [Bill and Melinda Gates Computer Science building](https://www.engr.washington.edu/about/bldgs/cse2)."
   ]
  },
  {
   "cell_type": "code",
   "execution_count": null,
   "metadata": {},
   "outputs": [],
   "source": [
    "# import csv\n",
    "# import json\n",
    "import requests\n",
    "from pprint import pprint\n",
    "\n",
    "# save the API endpoint. This is the base URL for all API requests for the building permit dataset\n",
    "test_endpoint = \"https://data.seattle.gov/resource/76t5-zqzr.json?\"\n",
    "\n",
    "#specify some parameters (filtering the data so we only get the parts we want)\n",
    "test_params = \"$where=(PermitNum='6531736-PH')\"\n",
    "\n",
    "test_url = test_endpoint + test_params\n",
    "\n",
    "test_request = requests.get(test_url)\n",
    "test_data = test_request.json()\n",
    "\n",
    "pprint(test_url)\n",
    "pprint(test_data)"
   ]
  },
  {
   "cell_type": "markdown",
   "metadata": {},
   "source": [
    "## What just happened?\n",
    "You just made an APi request (or \"query\") to data.seattle.gov, and requested a single item (or \"row\") from the [dataset of Seattle building permits](https://data.seattle.gov/Permitting/Building-Permits/76t5-zqzr). This dataset contains information about 135,000 proposed and completed building projects within the city of Seattle, going back at least a decade.\n",
    "\n",
    "In this case, we specified in our API request that we wanted data on a single building, using the parameter (\"filtering criteria\") ``$where=(PermitNum='6531736-PH')``. Since each row in this dataset has a unique permit number, we were able to retrieve a single record from the entire dataset."
   ]
  },
  {
   "cell_type": "markdown",
   "metadata": {},
   "source": [
    "## Using more complex parameters in your API query\n",
    "In most cases where you are gathering data from an API you will want to retrieve more than one item, and/or you won't know the unique id for the record(s) you want to retrieve. \n",
    "\n",
    "In these cases, you can use multiple parameters in combination to grab a set of rows from the dataset that share some characteristics.\n",
    "\n",
    "Some useful parameters are:\n",
    "- ``select``: which columns from the dataset you want to get for each item or row\n",
    "- ``where``: specific values for a column that you want (or don't want)\n",
    "- ``order``: sort by one of the columns in the output, e.g. start with the most recently issued permits\n",
    "- ``limit``: the maximum number of many rows you want to get\n"
   ]
  },
  {
   "cell_type": "markdown",
   "metadata": {},
   "source": [
    "### Finding column and value names in a dataset\n",
    "In many cases where you want to download data from a website via an API, you won't be able to see what the data looks like (its structure and its content) before you start querying. Fortunately, data.seattle.gov has [a spreadsheet-like interface](https://data.seattle.gov/Permitting/Building-Permits/76t5-zqzr/data) for each dataset, where you can preview the data and see the names of all of the columns. This makes it easier for us to decide how to build our query."
   ]
  },
  {
   "cell_type": "markdown",
   "metadata": {},
   "source": [
    "## Creating a more complex API query\n",
    "\n",
    "For example, anyone who lives in central Seattle knows that there have been a LOT of new apartment and condo buildings going up over the past decade! Let's say we wanted to track the rate of apartment building creation in Seattle over time, to see if the rate really has increased.\n",
    "\n",
    "Using a combination of different parameters in a single query, we can filter the building permit dataset and retrieve only the records we want.\n",
    "\n",
    "When doing a complex query like this, it is often useful to write it out for yourself in human language first, and then translate that into API parameters (the language that the computer reads).\n",
    "\n",
    "\"Give me basic information for the 1000 most recently completed new single and multifamily dwellings built in Seattle since 2006\"\n",
    "\n",
    "This query would look like this (paste it into your browser to try it out!):\n",
    "``https://data.seattle.gov/resource/76t5-zqzr.json?$select=PermitNum, PermitClass, CompletedDate, Description&$where=(PermitClass='Multifamily' OR PermitClass='Single Family/Duplex') AND PermitTypeDesc='New' AND CompletedDate > '2006-01-01'&$order=CompletedDate DESC&$limit=1000``\n",
    "\n",
    "As you can see, these URLs can get long and complicated! So it is often easier to send these complex queries using the ``params`` argument of the ``requests`` library. This allows you to organize these sub-components fo the query into a dictionary, where the keys are the parameters and the values are the filtering criteria."
   ]
  },
  {
   "cell_type": "code",
   "execution_count": null,
   "metadata": {
    "collapsed": true
   },
   "outputs": [],
   "source": [
    "bp_api_params = {\n",
    "\"$select\" : \"PermitNum, PermitClass, CompletedDate, Description\",\n",
    "\"$where\" : \"(PermitClass='Multifamily' OR PermitClass='Single Family/Duplex') AND PermitTypeDesc='New' AND CompletedDate > '2006-01-01'\",\n",
    "\"$order\" : \"CompletedDate DESC\",\n",
    "\"$limit\" : \"1000\",\n",
    "}"
   ]
  },
  {
   "cell_type": "markdown",
   "metadata": {},
   "source": [
    "Then you can pass this dictionary, along with the endpoint (see the first cell above) into the request."
   ]
  },
  {
   "cell_type": "code",
   "execution_count": null,
   "metadata": {},
   "outputs": [],
   "source": [
    "bp_endpoint = \"https://data.seattle.gov/resource/76t5-zqzr.json?\"\n",
    "\n",
    "bp_request = requests.get(bp_endpoint, params=bp_api_params)\n",
    "bp_data = bp_request.json()\n",
    "\n",
    "pprint(bp_request.url) #you can still print out the full URL you sent to the API, to help debug\n",
    "pprint(bp_data[:5])#print out the first 5 items to check our work"
   ]
  },
  {
   "cell_type": "markdown",
   "metadata": {},
   "source": [
    "## Saving to CSV\n",
    "Now that you have the data you want stored in the list-of-dictionaries called ``bp_data``, you can start to work with it in Python! Or, if you just want to save this data file and work on it in a spreadsheet, you can save it directly to CSV at this point."
   ]
  },
  {
   "cell_type": "code",
   "execution_count": null,
   "metadata": {
    "collapsed": true
   },
   "outputs": [],
   "source": [
    " \n",
    "#read through the list-of-dicts line by line and write it to CSV    \n",
    "with open('1000_most_recent_residential_permits.csv', 'w') as csv_outfile:\n",
    "    writer = csv.writer(csv_outfile)\n",
    "\n",
    "    #first write the titles that will appear at the head of each column in the CSV\n",
    "    writer.writerow(('permit number', 'description', 'building type', 'completed date'))\n",
    "    \n",
    "    for b in bp_data:\n",
    "\n",
    "        #write the data for each permit application onto a single row in the CSV \n",
    "        writer.writerow((b['PermitNum'], b['Description'], b['PermitClass'], b['CompletedDate']))"
   ]
  },
  {
   "cell_type": "markdown",
   "metadata": {},
   "source": [
    "## Note on messy data\n",
    "The data in this dataset is messy and incomplete! Some of the rows in this dataset will be missing values for fields (like \"Original Zipcode\" and \"HousingUnitsAdded\" to name a few). You may find that this leads to errors when you are trying to analyze or export the data. \n",
    "\n",
    "In general, dealing with messy, inconsistent, incomplete data is the MOST TIME CONSUMING (and frustrating!) part of doing data science. If you are trying to write your own query and you are getting errors that you suspect may be due to missing or messy data, call a mentor over and we can work with you to try to debug this."
   ]
  },
  {
   "cell_type": "code",
   "execution_count": null,
   "metadata": {
    "collapsed": true
   },
   "outputs": [],
   "source": []
  }
 ],
 "metadata": {
  "kernelspec": {
   "display_name": "Python 3",
   "language": "python",
   "name": "python3"
  },
  "language_info": {
   "codemirror_mode": {
    "name": "ipython",
    "version": 3
   },
   "file_extension": ".py",
   "mimetype": "text/x-python",
   "name": "python",
   "nbconvert_exporter": "python",
   "pygments_lexer": "ipython3",
   "version": "3.6.2"
  }
 },
 "nbformat": 4,
 "nbformat_minor": 2
}
